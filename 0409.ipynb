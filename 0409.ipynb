{
 "metadata": {
  "language_info": {
   "codemirror_mode": {
    "name": "ipython",
    "version": 3
   },
   "file_extension": ".py",
   "mimetype": "text/x-python",
   "name": "python",
   "nbconvert_exporter": "python",
   "pygments_lexer": "ipython3",
   "version": "3.6.7"
  },
  "orig_nbformat": 2,
  "kernelspec": {
   "name": "pythonjvsc74a57bd0e6040795280c91bfa346033a584e81e644393a8610f1e5c07328d2b39cbf3e94",
   "display_name": "Python 3.6.7 64-bit"
  },
  "metadata": {
   "interpreter": {
    "hash": "e6040795280c91bfa346033a584e81e644393a8610f1e5c07328d2b39cbf3e94"
   }
  }
 },
 "nbformat": 4,
 "nbformat_minor": 2,
 "cells": [
  {
   "cell_type": "code",
   "execution_count": 87,
   "metadata": {},
   "outputs": [],
   "source": [
    "import os\n",
    "import datetime\n",
    "import pandas_datareader as pdr\n",
    "import mplfinance as mpf\n",
    "import backtrader as bt\n",
    "import backtrader.feeds as btfeeds"
   ]
  },
  {
   "cell_type": "code",
   "execution_count": 91,
   "metadata": {},
   "outputs": [
    {
     "output_type": "execute_result",
     "data": {
      "text/plain": [
       "count    253.000000\n",
       "mean       1.242963\n",
       "std        1.109608\n",
       "min        0.000000\n",
       "25%        0.501749\n",
       "50%        0.924793\n",
       "75%        1.810233\n",
       "max        7.447534\n",
       "dtype: float64"
      ]
     },
     "metadata": {},
     "execution_count": 91
    }
   ],
   "source": [
    "#串接api抓取資料\n",
    "ARKK = pdr.get_data_tiingo('ARKK', api_key='58c634ac20862b7b585c31cd663b4f06d8ab44ac')\n",
    "ARKK = ARKK.reset_index(level=[0,1])\n",
    "ARKK.index = ARKK['date']\n",
    "ARKK_adj = ARKK.iloc[:,7:11]\n",
    "ARKK_adj.columns = ['Close','High','Low','Open']\n",
    "#取得2020年的數據\n",
    "ARKK_adj_2020 = ARKK_adj['2020']\n",
    "#開盤價及收盤價\n",
    "ARKK_adj_2020_Open = ARKK_adj_2020.Open\n",
    "ARKK_adj_2020_Close = ARKK_adj_2020.Close\n",
    "#當日漲跌點數\n",
    "ARKK_DailyChg_2020 = ARKK_adj_2020_Close - ARKK_adj_2020_Open\n",
    "# 取得每日的振幅\n",
    "ARKK_Abs_DailyChg_2020 = abs(ARKK_DailyChg_2020)\n",
    "# 分析振幅統計數據，以利篩選適合的K棒\n",
    "ARKK_Abs_DailyChg_2020.describe()"
   ]
  },
  {
   "cell_type": "code",
   "execution_count": 95,
   "metadata": {},
   "outputs": [
    {
     "output_type": "error",
     "ename": "SyntaxError",
     "evalue": "invalid syntax (<ipython-input-95-cefb9f53c994>, line 4)",
     "traceback": [
      "\u001b[1;36m  File \u001b[1;32m\"<ipython-input-95-cefb9f53c994>\"\u001b[1;36m, line \u001b[1;32m4\u001b[0m\n\u001b[1;33m    if (ARKK_DailyChg_2020[i-2] > 1.242) & (abs(ARKK_DailyChg_2020[i-1]) < 0.501) &\u001b[0m\n\u001b[1;37m                                                                                   ^\u001b[0m\n\u001b[1;31mSyntaxError\u001b[0m\u001b[1;31m:\u001b[0m invalid syntax\n"
     ]
    }
   ],
   "source": [
    "#利用K線特徵抓取Evening star出現的日期\n",
    "evening_condition_1 = [0,0]\n",
    "for i in range(2,len(ARKK_DailyChg_2020)):\n",
    "    if (ARKK_DailyChg_2020[i-2] > 1.242) & (abs(ARKK_DailyChg_2020[i-1]) < 0.501) & ( ARKK_DailyChg_2020[i] < -0.58 ):\n",
    "    evening_condition_1.append(1)\n",
    "    else:\n",
    "    evening_condition_1.append(0)\n",
    "# condition 1 符合的次數\n",
    "evening_condition_1.count(1)\n",
    "# 第2根的開盤與收盤價 均大於 第1根的收盤與第3根的開盤\n",
    "evening_condition_2 = [0,0]\n",
    "for i in range(2, len(ARKK_adj_2020_Open)):\n",
    "    if ( ARKK_adj_2020_Open[i-1] > ARKK_adj_2020_Close[i-2] ) & ( ARKK_adj_2020_Open[i-1] > ARKK_adj_2020_Open[i] ) & ( ARKK_adj_2020_Close[i-1] > ARKK_adj_2020_Close[i-2] ) & ( ARKK_adj_2020_Close[i-1] > ARKK_adj_2020_Open[i] ):\n",
    "        evening_condition_2.append(1)\n",
    "    else:\n",
    "        evening_condition_2.append(0)\n",
    "evening_condition_2.count(1)\n",
    "\n",
    "# Evening Star Signal\n",
    "evening_star_signal = []\n",
    "for i in range(len(evening_condition_1)):\n",
    "    if ( evening_condition_1[i] == 1 ) & ( evening_condition_2[i] == 1 ):\n",
    "        evening_star_signal.append(1)\n",
    "    else:\n",
    "        evening_star_signal.append(0)\n",
    "        \n",
    "# Find Evening Star date\n",
    "for i in range(len(evening_star_signal)):\n",
    "    if evening_star_signal[i] == 1:\n",
    "        print(ARKK_adj_2020.index[i])"
   ]
  },
  {
   "cell_type": "code",
   "execution_count": null,
   "metadata": {},
   "outputs": [],
   "source": []
  }
 ]
}