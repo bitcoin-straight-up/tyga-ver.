{
 "metadata": {
  "language_info": {
   "codemirror_mode": {
    "name": "ipython",
    "version": 3
   },
   "file_extension": ".py",
   "mimetype": "text/x-python",
   "name": "python",
   "nbconvert_exporter": "python",
   "pygments_lexer": "ipython3",
   "version": "3.6.7-candidate"
  },
  "orig_nbformat": 2,
  "kernelspec": {
   "name": "python3",
   "display_name": "Python 3.6.7 64-bit",
   "metadata": {
    "interpreter": {
     "hash": "e6040795280c91bfa346033a584e81e644393a8610f1e5c07328d2b39cbf3e94"
    }
   }
  }
 },
 "nbformat": 4,
 "nbformat_minor": 2,
 "cells": [
  {
   "cell_type": "code",
   "execution_count": 71,
   "metadata": {},
   "outputs": [
    {
     "output_type": "stream",
     "name": "stdout",
     "text": [
      "14\n"
     ]
    }
   ],
   "source": [
    "print(14)"
   ]
  },
  {
   "cell_type": "code",
   "execution_count": 4,
   "metadata": {},
   "outputs": [
    {
     "output_type": "execute_result",
     "data": {
      "text/plain": [
       "                   Low        Open        High       Close\n",
       "Date                                                      \n",
       "2021-03-05  508.329987  527.969971  530.849976  527.039978\n",
       "2021-03-08  501.109985  526.440002  529.169983  502.190002\n",
       "2021-03-09  524.950012  527.640015  543.210022  539.520020\n",
       "2021-03-10  521.109985  540.080017  541.820007  523.330017\n",
       "2021-03-11  540.010010  546.989990  548.489990  544.400024"
      ],
      "text/html": "<div>\n<style scoped>\n    .dataframe tbody tr th:only-of-type {\n        vertical-align: middle;\n    }\n\n    .dataframe tbody tr th {\n        vertical-align: top;\n    }\n\n    .dataframe thead th {\n        text-align: right;\n    }\n</style>\n<table border=\"1\" class=\"dataframe\">\n  <thead>\n    <tr style=\"text-align: right;\">\n      <th></th>\n      <th>Low</th>\n      <th>Open</th>\n      <th>High</th>\n      <th>Close</th>\n    </tr>\n    <tr>\n      <th>Date</th>\n      <th></th>\n      <th></th>\n      <th></th>\n      <th></th>\n    </tr>\n  </thead>\n  <tbody>\n    <tr>\n      <th>2021-03-05</th>\n      <td>508.329987</td>\n      <td>527.969971</td>\n      <td>530.849976</td>\n      <td>527.039978</td>\n    </tr>\n    <tr>\n      <th>2021-03-08</th>\n      <td>501.109985</td>\n      <td>526.440002</td>\n      <td>529.169983</td>\n      <td>502.190002</td>\n    </tr>\n    <tr>\n      <th>2021-03-09</th>\n      <td>524.950012</td>\n      <td>527.640015</td>\n      <td>543.210022</td>\n      <td>539.520020</td>\n    </tr>\n    <tr>\n      <th>2021-03-10</th>\n      <td>521.109985</td>\n      <td>540.080017</td>\n      <td>541.820007</td>\n      <td>523.330017</td>\n    </tr>\n    <tr>\n      <th>2021-03-11</th>\n      <td>540.010010</td>\n      <td>546.989990</td>\n      <td>548.489990</td>\n      <td>544.400024</td>\n    </tr>\n  </tbody>\n</table>\n</div>"
     },
     "metadata": {},
     "execution_count": 4
    }
   ],
   "source": [
    "import requests\n",
    "import json\n",
    "from io import StringIO\n",
    "import pandas as pd\n",
    "import numpy as np\n",
    "import datetime as dt\n",
    "import matplotlib.pyplot as plt\n",
    "df = pd.read_csv('ASML.csv',parse_dates = [\"Date\"],index_col = 0).dropna()\n",
    "df_plot = df[{'Open','High','Low','Close'}]\n",
    "df_plot.tail()"
   ]
  },
  {
   "cell_type": "code",
   "execution_count": 73,
   "metadata": {},
   "outputs": [
    {
     "output_type": "execute_result",
     "data": {
      "text/plain": [
       "pandas.core.frame.DataFrame"
      ]
     },
     "metadata": {},
     "execution_count": 73
    }
   ],
   "source": [
    "type(df)"
   ]
  },
  {
   "cell_type": "code",
   "execution_count": 74,
   "metadata": {},
   "outputs": [
    {
     "output_type": "execute_result",
     "data": {
      "text/plain": [
       "Date\n",
       "2020-03-10           NaN\n",
       "2020-03-11           NaN\n",
       "2020-03-12           NaN\n",
       "2020-03-13           NaN\n",
       "2020-03-16           NaN\n",
       "                 ...    \n",
       "2021-03-03    574.361005\n",
       "2021-03-04    567.163007\n",
       "2021-03-05    560.427002\n",
       "2021-03-08    552.796002\n",
       "2021-03-09    549.141004\n",
       "Name: Close, Length: 252, dtype: float64"
      ]
     },
     "metadata": {},
     "execution_count": 74
    }
   ],
   "source": [
    "df['Close'].rolling(10).mean()"
   ]
  },
  {
   "cell_type": "code",
   "execution_count": null,
   "metadata": {},
   "outputs": [],
   "source": []
  }
 ]
}