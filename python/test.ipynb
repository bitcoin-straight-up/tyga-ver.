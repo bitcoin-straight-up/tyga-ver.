{
 "metadata": {
  "language_info": {
   "codemirror_mode": {
    "name": "ipython",
    "version": 3
   },
   "file_extension": ".py",
   "mimetype": "text/x-python",
   "name": "python",
   "nbconvert_exporter": "python",
   "pygments_lexer": "ipython3",
   "version": "3.6.7-candidate"
  },
  "orig_nbformat": 2,
  "kernelspec": {
   "name": "python3",
   "display_name": "Python 3.6.7 64-bit",
   "metadata": {
    "interpreter": {
     "hash": "e6040795280c91bfa346033a584e81e644393a8610f1e5c07328d2b39cbf3e94"
    }
   }
  }
 },
 "nbformat": 4,
 "nbformat_minor": 2,
 "cells": [
  {
   "cell_type": "code",
   "execution_count": 128,
   "metadata": {},
   "outputs": [
    {
     "output_type": "stream",
     "name": "stdout",
     "text": [
      "14\n"
     ]
    }
   ],
   "source": [
    "print(14)"
   ]
  },
  {
   "cell_type": "code",
   "execution_count": 129,
   "metadata": {},
   "outputs": [],
   "source": [
    "from io import StringIO\n",
    "import requests\n",
    "import json\n",
    "import pandas as pd\n",
    "import numpy as np\n",
    "import datetime as dt\n",
    "import matplotlib.pyplot as plt\n",
    "df = pd.read_csv('ASML.csv',parse_dates = [\"Date\"],index_col = 0).dropna()\n",
    "df_plot = df[{'Open','High','Low','Close'}]"
   ]
  },
  {
   "cell_type": "code",
   "execution_count": 130,
   "metadata": {},
   "outputs": [
    {
     "output_type": "execute_result",
     "data": {
      "text/plain": [
       "                   Low       Close        High        Open\n",
       "Date                                                      \n",
       "2021-03-05  508.329987  527.039978  530.849976  527.969971\n",
       "2021-03-08  501.109985  502.190002  529.169983  526.440002\n",
       "2021-03-09  524.950012  539.520020  543.210022  527.640015\n",
       "2021-03-10  521.109985  523.330017  541.820007  540.080017\n",
       "2021-03-11  540.010010  544.400024  548.489990  546.989990"
      ],
      "text/html": "<div>\n<style scoped>\n    .dataframe tbody tr th:only-of-type {\n        vertical-align: middle;\n    }\n\n    .dataframe tbody tr th {\n        vertical-align: top;\n    }\n\n    .dataframe thead th {\n        text-align: right;\n    }\n</style>\n<table border=\"1\" class=\"dataframe\">\n  <thead>\n    <tr style=\"text-align: right;\">\n      <th></th>\n      <th>Low</th>\n      <th>Close</th>\n      <th>High</th>\n      <th>Open</th>\n    </tr>\n    <tr>\n      <th>Date</th>\n      <th></th>\n      <th></th>\n      <th></th>\n      <th></th>\n    </tr>\n  </thead>\n  <tbody>\n    <tr>\n      <th>2021-03-05</th>\n      <td>508.329987</td>\n      <td>527.039978</td>\n      <td>530.849976</td>\n      <td>527.969971</td>\n    </tr>\n    <tr>\n      <th>2021-03-08</th>\n      <td>501.109985</td>\n      <td>502.190002</td>\n      <td>529.169983</td>\n      <td>526.440002</td>\n    </tr>\n    <tr>\n      <th>2021-03-09</th>\n      <td>524.950012</td>\n      <td>539.520020</td>\n      <td>543.210022</td>\n      <td>527.640015</td>\n    </tr>\n    <tr>\n      <th>2021-03-10</th>\n      <td>521.109985</td>\n      <td>523.330017</td>\n      <td>541.820007</td>\n      <td>540.080017</td>\n    </tr>\n    <tr>\n      <th>2021-03-11</th>\n      <td>540.010010</td>\n      <td>544.400024</td>\n      <td>548.489990</td>\n      <td>546.989990</td>\n    </tr>\n  </tbody>\n</table>\n</div>"
     },
     "metadata": {},
     "execution_count": 130
    }
   ],
   "source": [
    "df_plot.tail()"
   ]
  },
  {
   "cell_type": "code",
   "execution_count": 131,
   "metadata": {},
   "outputs": [],
   "source": [
    "#計算ma\n",
    "def moving_average(data,periods):\n",
    "    return data['Close'].rolling(periods).mean()"
   ]
  },
  {
   "cell_type": "code",
   "execution_count": 132,
   "metadata": {},
   "outputs": [],
   "source": [
    "df_copy = df.copy()\n",
    "df_copy['min'] = df_copy['Low'].rolling(9).min()\n",
    "df_copy['max'] = df_copy['High'].rolling(9).min()\n",
    "df_copy['RSV'] = (df_copy['Close'] - df_copy['min']) /(df_copy['max'] - df_copy['min'])\n",
    "df_copy = df_copy.dropna()\n",
    "K_list = [50]\n",
    "for index,rsv in enumerate(list(df_copy['RSV'])):\n",
    "    K_yesterday = K_list[index]\n",
    "    K_today = 2/3 * K_yesterday + 1/3 *rsv\n",
    "    K_list.append(K_today)\n",
    "df_copy['K'] = K_list[1:]\n",
    "D_list = [50]\n",
    "for index,K in enumerate(list(df_copy['K'])):\n",
    "    D_yesterday = D_list[index]\n",
    "    D_today = 2/3 * D_yesterday + 1/3 * K\n",
    "    D_list.append(D_today)\n",
    "df_copy['D'] = D_list[1:]"
   ]
  },
  {
   "cell_type": "code",
   "execution_count": 133,
   "metadata": {},
   "outputs": [
    {
     "output_type": "execute_result",
     "data": {
      "text/plain": [
       "                  Open        High         Low       Close   Adj Close  \\\n",
       "Date                                                                     \n",
       "2020-03-24  254.330002  260.529999  250.800003  260.209991  257.898468   \n",
       "2020-03-25  260.670013  272.339996  251.949997  262.070007  259.741943   \n",
       "2020-03-26  262.890015  277.140015  261.609985  275.899994  273.449097   \n",
       "2020-03-27  262.209991  263.709991  251.809998  252.619995  250.375885   \n",
       "2020-03-30  263.570007  270.130005  260.690002  268.029999  265.649017   \n",
       "\n",
       "             Volume     min         max       RSV          K          D  \n",
       "Date                                                                     \n",
       "2020-03-24  1427600  191.25  219.240005  2.463736  34.154579  44.718193  \n",
       "2020-03-25  1211300  191.25  219.240005  2.530189  23.613116  37.683167  \n",
       "2020-03-26  1018600  191.25  219.240005  3.024294  16.750175  30.705503  \n",
       "2020-03-27  1518300  191.25  219.240005  2.192568  11.897639  24.436215  \n",
       "2020-03-30  1142400  191.25  219.240005  2.743122   8.846134  19.239521  "
      ],
      "text/html": "<div>\n<style scoped>\n    .dataframe tbody tr th:only-of-type {\n        vertical-align: middle;\n    }\n\n    .dataframe tbody tr th {\n        vertical-align: top;\n    }\n\n    .dataframe thead th {\n        text-align: right;\n    }\n</style>\n<table border=\"1\" class=\"dataframe\">\n  <thead>\n    <tr style=\"text-align: right;\">\n      <th></th>\n      <th>Open</th>\n      <th>High</th>\n      <th>Low</th>\n      <th>Close</th>\n      <th>Adj Close</th>\n      <th>Volume</th>\n      <th>min</th>\n      <th>max</th>\n      <th>RSV</th>\n      <th>K</th>\n      <th>D</th>\n    </tr>\n    <tr>\n      <th>Date</th>\n      <th></th>\n      <th></th>\n      <th></th>\n      <th></th>\n      <th></th>\n      <th></th>\n      <th></th>\n      <th></th>\n      <th></th>\n      <th></th>\n      <th></th>\n    </tr>\n  </thead>\n  <tbody>\n    <tr>\n      <th>2020-03-24</th>\n      <td>254.330002</td>\n      <td>260.529999</td>\n      <td>250.800003</td>\n      <td>260.209991</td>\n      <td>257.898468</td>\n      <td>1427600</td>\n      <td>191.25</td>\n      <td>219.240005</td>\n      <td>2.463736</td>\n      <td>34.154579</td>\n      <td>44.718193</td>\n    </tr>\n    <tr>\n      <th>2020-03-25</th>\n      <td>260.670013</td>\n      <td>272.339996</td>\n      <td>251.949997</td>\n      <td>262.070007</td>\n      <td>259.741943</td>\n      <td>1211300</td>\n      <td>191.25</td>\n      <td>219.240005</td>\n      <td>2.530189</td>\n      <td>23.613116</td>\n      <td>37.683167</td>\n    </tr>\n    <tr>\n      <th>2020-03-26</th>\n      <td>262.890015</td>\n      <td>277.140015</td>\n      <td>261.609985</td>\n      <td>275.899994</td>\n      <td>273.449097</td>\n      <td>1018600</td>\n      <td>191.25</td>\n      <td>219.240005</td>\n      <td>3.024294</td>\n      <td>16.750175</td>\n      <td>30.705503</td>\n    </tr>\n    <tr>\n      <th>2020-03-27</th>\n      <td>262.209991</td>\n      <td>263.709991</td>\n      <td>251.809998</td>\n      <td>252.619995</td>\n      <td>250.375885</td>\n      <td>1518300</td>\n      <td>191.25</td>\n      <td>219.240005</td>\n      <td>2.192568</td>\n      <td>11.897639</td>\n      <td>24.436215</td>\n    </tr>\n    <tr>\n      <th>2020-03-30</th>\n      <td>263.570007</td>\n      <td>270.130005</td>\n      <td>260.690002</td>\n      <td>268.029999</td>\n      <td>265.649017</td>\n      <td>1142400</td>\n      <td>191.25</td>\n      <td>219.240005</td>\n      <td>2.743122</td>\n      <td>8.846134</td>\n      <td>19.239521</td>\n    </tr>\n  </tbody>\n</table>\n</div>"
     },
     "metadata": {},
     "execution_count": 133
    }
   ],
   "source": [
    "df_copy.head()"
   ]
  },
  {
   "cell_type": "code",
   "execution_count": 134,
   "metadata": {},
   "outputs": [],
   "source": [
    "#計算KD值\n",
    "'''\n",
    "step1 計算RSV:(今日的收盤價 - 最近9天的最低價)/(最近9天的最高價-最近9天的最低價)\n",
    "step2 計算K值: K = 2/3 * (昨天的K值) + 1/3 * (今日RSV)\n",
    "step2 計算D值: K = 2/3 * (昨天的D值) + 1/3 * (今日的K值)\n",
    "'''\n",
    "def KD(data):\n",
    "    #step1 計算RSV\n",
    "    df_copy = data.copy()\n",
    "    df_copy['min'] = df_copy['Low'].rolling(9).min()\n",
    "    df_copy['max'] = df_copy['High'].rolling(9).min()\n",
    "    df_copy['RSV'] = (df_copy['Close'] - df_copy['min']) /(df_copy['max'] - df_copy['min'])\n",
    "    #step2 計算K值\n",
    "    df_copy = df_copy.dropna()\n",
    "    K_list = [50]\n",
    "    for index,rsv in enumerate(list(df_copy['RSV'])):\n",
    "        K_yesterday = K_list[index]\n",
    "        K_today = 2/3 * K_yesterday + 1/3 *rsv\n",
    "        K_list.append(K_today)\n",
    "    df_copy['K'] = K_list[1:]\n",
    "    #step3 計算D值\n",
    "    D_list = [50]\n",
    "    for index,K in enumerate(list(df_copy['K'])):\n",
    "        D_yesterday = D_list[index]\n",
    "        D_today = 2/3 * D_yesterday + 1/3 * K\n",
    "        D_list.append(D_today)\n",
    "    df_copy['D'] = D_list[1:]\n",
    "    use_df = pd.merge(data,df_copy[['K','D']],left_index=True,right_index=True,how='left')\n",
    "    return use_df"
   ]
  },
  {
   "cell_type": "code",
   "execution_count": 135,
   "metadata": {},
   "outputs": [
    {
     "output_type": "execute_result",
     "data": {
      "text/plain": [
       "                  Open        High         Low       Close   Adj Close  \\\n",
       "Date                                                                     \n",
       "2021-02-26  572.340027  573.489990  560.700012  567.090027  567.090027   \n",
       "2021-03-01  572.369995  584.359985  568.859985  583.549988  583.549988   \n",
       "2021-03-02  579.030029  579.869995  563.000000  563.140015  563.140015   \n",
       "2021-03-03  564.590027  565.950012  541.200012  543.599976  543.599976   \n",
       "2021-03-04  537.849976  541.330017  502.089996  510.500000  510.500000   \n",
       "2021-03-05  527.969971  530.849976  508.329987  527.039978  527.039978   \n",
       "2021-03-08  526.440002  529.169983  501.109985  502.190002  502.190002   \n",
       "2021-03-09  527.640015  543.210022  524.950012  539.520020  539.520020   \n",
       "2021-03-10  540.080017  541.820007  521.109985  523.330017  523.330017   \n",
       "2021-03-11  546.989990  548.489990  540.010010  544.400024  544.400024   \n",
       "\n",
       "             Volume         K         D  \n",
       "Date                                     \n",
       "2021-02-26   946500  1.291354  2.271222  \n",
       "2021-03-01   679500  1.436704  1.993049  \n",
       "2021-03-02   696100  1.041679  1.675926  \n",
       "2021-03-03  1006500  0.726775  1.359542  \n",
       "2021-03-04  1701600  0.555958  1.091681  \n",
       "2021-03-05  1369400  0.659813  0.947725  \n",
       "2021-03-08  1174900  0.452705  0.782718  \n",
       "2021-03-09  1239700  0.758088  0.774508  \n",
       "2021-03-10   876500  0.769351  0.772789  \n",
       "2021-03-11  1009724  1.027156  0.857578  "
      ],
      "text/html": "<div>\n<style scoped>\n    .dataframe tbody tr th:only-of-type {\n        vertical-align: middle;\n    }\n\n    .dataframe tbody tr th {\n        vertical-align: top;\n    }\n\n    .dataframe thead th {\n        text-align: right;\n    }\n</style>\n<table border=\"1\" class=\"dataframe\">\n  <thead>\n    <tr style=\"text-align: right;\">\n      <th></th>\n      <th>Open</th>\n      <th>High</th>\n      <th>Low</th>\n      <th>Close</th>\n      <th>Adj Close</th>\n      <th>Volume</th>\n      <th>K</th>\n      <th>D</th>\n    </tr>\n    <tr>\n      <th>Date</th>\n      <th></th>\n      <th></th>\n      <th></th>\n      <th></th>\n      <th></th>\n      <th></th>\n      <th></th>\n      <th></th>\n    </tr>\n  </thead>\n  <tbody>\n    <tr>\n      <th>2021-02-26</th>\n      <td>572.340027</td>\n      <td>573.489990</td>\n      <td>560.700012</td>\n      <td>567.090027</td>\n      <td>567.090027</td>\n      <td>946500</td>\n      <td>1.291354</td>\n      <td>2.271222</td>\n    </tr>\n    <tr>\n      <th>2021-03-01</th>\n      <td>572.369995</td>\n      <td>584.359985</td>\n      <td>568.859985</td>\n      <td>583.549988</td>\n      <td>583.549988</td>\n      <td>679500</td>\n      <td>1.436704</td>\n      <td>1.993049</td>\n    </tr>\n    <tr>\n      <th>2021-03-02</th>\n      <td>579.030029</td>\n      <td>579.869995</td>\n      <td>563.000000</td>\n      <td>563.140015</td>\n      <td>563.140015</td>\n      <td>696100</td>\n      <td>1.041679</td>\n      <td>1.675926</td>\n    </tr>\n    <tr>\n      <th>2021-03-03</th>\n      <td>564.590027</td>\n      <td>565.950012</td>\n      <td>541.200012</td>\n      <td>543.599976</td>\n      <td>543.599976</td>\n      <td>1006500</td>\n      <td>0.726775</td>\n      <td>1.359542</td>\n    </tr>\n    <tr>\n      <th>2021-03-04</th>\n      <td>537.849976</td>\n      <td>541.330017</td>\n      <td>502.089996</td>\n      <td>510.500000</td>\n      <td>510.500000</td>\n      <td>1701600</td>\n      <td>0.555958</td>\n      <td>1.091681</td>\n    </tr>\n    <tr>\n      <th>2021-03-05</th>\n      <td>527.969971</td>\n      <td>530.849976</td>\n      <td>508.329987</td>\n      <td>527.039978</td>\n      <td>527.039978</td>\n      <td>1369400</td>\n      <td>0.659813</td>\n      <td>0.947725</td>\n    </tr>\n    <tr>\n      <th>2021-03-08</th>\n      <td>526.440002</td>\n      <td>529.169983</td>\n      <td>501.109985</td>\n      <td>502.190002</td>\n      <td>502.190002</td>\n      <td>1174900</td>\n      <td>0.452705</td>\n      <td>0.782718</td>\n    </tr>\n    <tr>\n      <th>2021-03-09</th>\n      <td>527.640015</td>\n      <td>543.210022</td>\n      <td>524.950012</td>\n      <td>539.520020</td>\n      <td>539.520020</td>\n      <td>1239700</td>\n      <td>0.758088</td>\n      <td>0.774508</td>\n    </tr>\n    <tr>\n      <th>2021-03-10</th>\n      <td>540.080017</td>\n      <td>541.820007</td>\n      <td>521.109985</td>\n      <td>523.330017</td>\n      <td>523.330017</td>\n      <td>876500</td>\n      <td>0.769351</td>\n      <td>0.772789</td>\n    </tr>\n    <tr>\n      <th>2021-03-11</th>\n      <td>546.989990</td>\n      <td>548.489990</td>\n      <td>540.010010</td>\n      <td>544.400024</td>\n      <td>544.400024</td>\n      <td>1009724</td>\n      <td>1.027156</td>\n      <td>0.857578</td>\n    </tr>\n  </tbody>\n</table>\n</div>"
     },
     "metadata": {},
     "execution_count": 135
    }
   ],
   "source": [
    "KD(df).tail(10)"
   ]
  }
 ]
}