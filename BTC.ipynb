{
 "metadata": {
  "language_info": {
   "codemirror_mode": {
    "name": "ipython",
    "version": 3
   },
   "file_extension": ".py",
   "mimetype": "text/x-python",
   "name": "python",
   "nbconvert_exporter": "python",
   "pygments_lexer": "ipython3",
   "version": "3.8.5-final"
  },
  "orig_nbformat": 2,
  "kernelspec": {
   "name": "python3",
   "display_name": "Python 3",
   "language": "python"
  }
 },
 "nbformat": 4,
 "nbformat_minor": 2,
 "cells": [
  {
   "cell_type": "code",
   "execution_count": 17,
   "metadata": {},
   "outputs": [
    {
     "output_type": "stream",
     "name": "stdout",
     "text": [
      "9\n"
     ]
    }
   ],
   "source": [
    "print(9)"
   ]
  },
  {
   "cell_type": "code",
   "execution_count": 18,
   "metadata": {},
   "outputs": [],
   "source": [
    "from io import StringIO\n",
    "import requests\n",
    "import json\n",
    "import pandas as pd\n",
    "import numpy as np\n",
    "import datetime as dt\n",
    "import matplotlib.pyplot as plt\n",
    "df = pd.read_csv('BTC-USD.csv',parse_dates= [\"Date\"],index_col = 0).dropna()\n",
    "df_plot = df[{'Open','High','Low','Close'}]"
   ]
  },
  {
   "cell_type": "code",
   "execution_count": 19,
   "metadata": {},
   "outputs": [
    {
     "output_type": "execute_result",
     "data": {
      "text/plain": [
       "                   High          Low        Close         Open\n",
       "Date                                                          \n",
       "2020-03-13  5838.114746  4106.980957  5563.707031  5017.831055\n",
       "2020-03-14  5625.226563  5125.069336  5200.366211  5573.077637\n",
       "2020-03-15  5836.645020  5169.283203  5392.314941  5201.066895\n",
       "2020-03-16  5385.229492  4575.357910  5014.479980  5385.229492\n",
       "2020-03-17  5371.348633  4981.909180  5225.629395  5002.578125"
      ],
      "text/html": "<div>\n<style scoped>\n    .dataframe tbody tr th:only-of-type {\n        vertical-align: middle;\n    }\n\n    .dataframe tbody tr th {\n        vertical-align: top;\n    }\n\n    .dataframe thead th {\n        text-align: right;\n    }\n</style>\n<table border=\"1\" class=\"dataframe\">\n  <thead>\n    <tr style=\"text-align: right;\">\n      <th></th>\n      <th>High</th>\n      <th>Low</th>\n      <th>Close</th>\n      <th>Open</th>\n    </tr>\n    <tr>\n      <th>Date</th>\n      <th></th>\n      <th></th>\n      <th></th>\n      <th></th>\n    </tr>\n  </thead>\n  <tbody>\n    <tr>\n      <th>2020-03-13</th>\n      <td>5838.114746</td>\n      <td>4106.980957</td>\n      <td>5563.707031</td>\n      <td>5017.831055</td>\n    </tr>\n    <tr>\n      <th>2020-03-14</th>\n      <td>5625.226563</td>\n      <td>5125.069336</td>\n      <td>5200.366211</td>\n      <td>5573.077637</td>\n    </tr>\n    <tr>\n      <th>2020-03-15</th>\n      <td>5836.645020</td>\n      <td>5169.283203</td>\n      <td>5392.314941</td>\n      <td>5201.066895</td>\n    </tr>\n    <tr>\n      <th>2020-03-16</th>\n      <td>5385.229492</td>\n      <td>4575.357910</td>\n      <td>5014.479980</td>\n      <td>5385.229492</td>\n    </tr>\n    <tr>\n      <th>2020-03-17</th>\n      <td>5371.348633</td>\n      <td>4981.909180</td>\n      <td>5225.629395</td>\n      <td>5002.578125</td>\n    </tr>\n  </tbody>\n</table>\n</div>"
     },
     "metadata": {},
     "execution_count": 19
    }
   ],
   "source": [
    "df_plot.head()"
   ]
  },
  {
   "cell_type": "code",
   "execution_count": 20,
   "metadata": {},
   "outputs": [],
   "source": [
    "#計算ma\n",
    "def moving_average(data,periods):\n",
    "    return data['Close'].rolling(periods).mean()"
   ]
  },
  {
   "cell_type": "code",
   "execution_count": 21,
   "metadata": {},
   "outputs": [],
   "source": [
    "df_copy = df.copy()\n",
    "df_copy['min'] = df_copy['Low'].rolling(9).min()\n",
    "df_copy['max'] = df_copy['High'].rolling(9).min()\n",
    "df_copy['RSV'] = (df_copy['Close'] - df_copy['min']) / (df_copy['max'] - df_copy['min'])\n",
    "df_copy = df_copy.dropna()\n",
    "K_list = [50]\n",
    "for index,rsv in enumerate(list(df_copy['RSV'])):\n",
    "    K_yesterday = K_list[index]\n",
    "    K_today = 2/3 * K_yesterday + 1/3 *rsv\n",
    "    K_list.append(K_today)\n",
    "df_copy['K'] = K_list[1:]\n",
    "D_list = [50]\n",
    "for index,K in enumerate(list(df_copy['K'])):\n",
    "    D_yesterday = D_list[index]\n",
    "    D_today = 2/3 * D_yesterday + 1/3 *K\n",
    "    D_list.append(D_today)\n",
    "df_copy['D'] = D_list[1:]"
   ]
  },
  {
   "cell_type": "code",
   "execution_count": 22,
   "metadata": {},
   "outputs": [
    {
     "output_type": "execute_result",
     "data": {
      "text/plain": [
       "                   Open         High          Low        Close    Adj Close  \\\n",
       "Date                                                                          \n",
       "2020-03-21  6206.521484  6378.135254  5932.823242  6185.066406  6185.066406   \n",
       "2020-03-22  6185.558105  6359.697266  5823.713867  5830.254883  5830.254883   \n",
       "2020-03-23  5831.374512  6443.934570  5785.004395  6416.314941  6416.314941   \n",
       "2020-03-24  6436.642578  6789.022949  6411.066406  6734.803711  6734.803711   \n",
       "2020-03-25  6738.716797  6892.511230  6536.926270  6681.062988  6681.062988   \n",
       "\n",
       "                  Volume          min          max       RSV          K  \\\n",
       "Date                                                                      \n",
       "2020-03-21  4.249439e+10  4106.980957  5331.833984  1.696600  33.898867   \n",
       "2020-03-22  4.009966e+10  4575.357910  5331.833984  1.658872  23.152202   \n",
       "2020-03-23  4.649192e+10  4575.357910  5331.833984  2.433596  16.246000   \n",
       "2020-03-24  4.822191e+10  4575.357910  5331.833984  2.854612  11.782204   \n",
       "2020-03-25  4.459011e+10  4981.909180  5331.833984  4.855768   9.473392   \n",
       "\n",
       "                    D  \n",
       "Date                   \n",
       "2020-03-21  44.632956  \n",
       "2020-03-22  37.472704  \n",
       "2020-03-23  30.397136  \n",
       "2020-03-24  24.192159  \n",
       "2020-03-25  19.285903  "
      ],
      "text/html": "<div>\n<style scoped>\n    .dataframe tbody tr th:only-of-type {\n        vertical-align: middle;\n    }\n\n    .dataframe tbody tr th {\n        vertical-align: top;\n    }\n\n    .dataframe thead th {\n        text-align: right;\n    }\n</style>\n<table border=\"1\" class=\"dataframe\">\n  <thead>\n    <tr style=\"text-align: right;\">\n      <th></th>\n      <th>Open</th>\n      <th>High</th>\n      <th>Low</th>\n      <th>Close</th>\n      <th>Adj Close</th>\n      <th>Volume</th>\n      <th>min</th>\n      <th>max</th>\n      <th>RSV</th>\n      <th>K</th>\n      <th>D</th>\n    </tr>\n    <tr>\n      <th>Date</th>\n      <th></th>\n      <th></th>\n      <th></th>\n      <th></th>\n      <th></th>\n      <th></th>\n      <th></th>\n      <th></th>\n      <th></th>\n      <th></th>\n      <th></th>\n    </tr>\n  </thead>\n  <tbody>\n    <tr>\n      <th>2020-03-21</th>\n      <td>6206.521484</td>\n      <td>6378.135254</td>\n      <td>5932.823242</td>\n      <td>6185.066406</td>\n      <td>6185.066406</td>\n      <td>4.249439e+10</td>\n      <td>4106.980957</td>\n      <td>5331.833984</td>\n      <td>1.696600</td>\n      <td>33.898867</td>\n      <td>44.632956</td>\n    </tr>\n    <tr>\n      <th>2020-03-22</th>\n      <td>6185.558105</td>\n      <td>6359.697266</td>\n      <td>5823.713867</td>\n      <td>5830.254883</td>\n      <td>5830.254883</td>\n      <td>4.009966e+10</td>\n      <td>4575.357910</td>\n      <td>5331.833984</td>\n      <td>1.658872</td>\n      <td>23.152202</td>\n      <td>37.472704</td>\n    </tr>\n    <tr>\n      <th>2020-03-23</th>\n      <td>5831.374512</td>\n      <td>6443.934570</td>\n      <td>5785.004395</td>\n      <td>6416.314941</td>\n      <td>6416.314941</td>\n      <td>4.649192e+10</td>\n      <td>4575.357910</td>\n      <td>5331.833984</td>\n      <td>2.433596</td>\n      <td>16.246000</td>\n      <td>30.397136</td>\n    </tr>\n    <tr>\n      <th>2020-03-24</th>\n      <td>6436.642578</td>\n      <td>6789.022949</td>\n      <td>6411.066406</td>\n      <td>6734.803711</td>\n      <td>6734.803711</td>\n      <td>4.822191e+10</td>\n      <td>4575.357910</td>\n      <td>5331.833984</td>\n      <td>2.854612</td>\n      <td>11.782204</td>\n      <td>24.192159</td>\n    </tr>\n    <tr>\n      <th>2020-03-25</th>\n      <td>6738.716797</td>\n      <td>6892.511230</td>\n      <td>6536.926270</td>\n      <td>6681.062988</td>\n      <td>6681.062988</td>\n      <td>4.459011e+10</td>\n      <td>4981.909180</td>\n      <td>5331.833984</td>\n      <td>4.855768</td>\n      <td>9.473392</td>\n      <td>19.285903</td>\n    </tr>\n  </tbody>\n</table>\n</div>"
     },
     "metadata": {},
     "execution_count": 22
    }
   ],
   "source": [
    "df_copy.head()"
   ]
  },
  {
   "cell_type": "code",
   "execution_count": 23,
   "metadata": {},
   "outputs": [],
   "source": [
    "#計算KD值\n",
    "'''\n",
    "step1 計算RSV:(今天的收盤價 - 最近9天的最低價)/(最近9天的最高價 - 最近9天的最低價)\n",
    "step2 計算K值: K = 2/3 * (昨天的K值) + 1/3 * (今日RSV)\n",
    "step3 計算D值: K = 2/3 * (昨天的D值) + 1/3 * (今日的K值)\n",
    "'''\n",
    "def KD(data):\n",
    "    df_copy = data.copy()\n",
    "    df_copy['min'] = df_copy['Low'].rolling(9).min()\n",
    "    df_copy['max'] = df_copy['High'].rolling(9).min()\n",
    "    df_copy['RSV'] = (df_copy['Close'] - df_copy['min']) / (df_copy['max'] - df_copy['min'])\n",
    "    df_copy = df_copy.dropna()\n",
    "    K_list = [50]\n",
    "    for index,rsv in enumerate(list(df_copy['RSV'])):\n",
    "        K_yesterday = K_list[index]\n",
    "        K_today = 2/3 * K_yesterday + 1/3 *rsv\n",
    "        K_list.append(K_today)\n",
    "    df_copy['K'] = K_list[1:]\n",
    "    D_list = [50]\n",
    "    for index,K in enumerate(list(df_copy['K'])):\n",
    "        D_yesterday = D_list[index]\n",
    "        D_today = 2/3 * D_yesterday + 1/3 *K\n",
    "        D_list.append(D_today)\n",
    "    df_copy['D'] = D_list[1:]\n",
    "    use_df = pd.merge(data,df_copy[['K','D']],left_index=True,right_index=True,how='left')\n",
    "    return use_df"
   ]
  },
  {
   "cell_type": "code",
   "execution_count": 24,
   "metadata": {},
   "outputs": [
    {
     "output_type": "execute_result",
     "data": {
      "text/plain": [
       "                    Open          High           Low         Close  \\\n",
       "Date                                                                 \n",
       "2021-03-04  50522.304688  51735.089844  47656.929688  48561.167969   \n",
       "2021-03-05  48527.031250  49396.429688  46542.515625  48927.304688   \n",
       "2021-03-06  48899.230469  49147.218750  47257.527344  48912.382813   \n",
       "2021-03-07  48918.679688  51384.367188  48918.679688  51206.691406   \n",
       "2021-03-08  51174.117188  52314.070313  49506.054688  52246.523438   \n",
       "2021-03-09  52272.968750  54824.117188  51981.832031  54824.117188   \n",
       "2021-03-10  54824.011719  57258.253906  53290.890625  56008.550781   \n",
       "2021-03-11  55963.179688  58091.062500  54484.593750  57805.121094   \n",
       "2021-03-12  57821.218750  57996.621094  55376.648438  57332.089844   \n",
       "2021-03-13  56644.585938  60285.550781  56226.421875  59706.835938   \n",
       "\n",
       "               Adj Close        Volume         K         D  \n",
       "Date                                                        \n",
       "2021-03-04  48561.167969  5.234382e+10  1.547484  1.473137  \n",
       "2021-03-05  48927.304688  4.862593e+10  1.577075  1.507783  \n",
       "2021-03-06  48912.382813  3.436356e+10  1.595371  1.536979  \n",
       "2021-03-07  51206.691406  4.313746e+10  1.827658  1.633872  \n",
       "2021-03-08  52246.523438  4.859743e+10  2.082265  1.783336  \n",
       "2021-03-09  54824.117188  5.091223e+10  2.190816  1.919163  \n",
       "2021-03-10  56008.550781  5.729558e+10  2.671947  2.170091  \n",
       "2021-03-11  57805.121094  5.677234e+10  3.222615  2.520932  \n",
       "2021-03-12  57332.089844  5.568994e+10  3.529191  2.857018  \n",
       "2021-03-13  59706.835938  5.912292e+10  4.037480  3.250505  "
      ],
      "text/html": "<div>\n<style scoped>\n    .dataframe tbody tr th:only-of-type {\n        vertical-align: middle;\n    }\n\n    .dataframe tbody tr th {\n        vertical-align: top;\n    }\n\n    .dataframe thead th {\n        text-align: right;\n    }\n</style>\n<table border=\"1\" class=\"dataframe\">\n  <thead>\n    <tr style=\"text-align: right;\">\n      <th></th>\n      <th>Open</th>\n      <th>High</th>\n      <th>Low</th>\n      <th>Close</th>\n      <th>Adj Close</th>\n      <th>Volume</th>\n      <th>K</th>\n      <th>D</th>\n    </tr>\n    <tr>\n      <th>Date</th>\n      <th></th>\n      <th></th>\n      <th></th>\n      <th></th>\n      <th></th>\n      <th></th>\n      <th></th>\n      <th></th>\n    </tr>\n  </thead>\n  <tbody>\n    <tr>\n      <th>2021-03-04</th>\n      <td>50522.304688</td>\n      <td>51735.089844</td>\n      <td>47656.929688</td>\n      <td>48561.167969</td>\n      <td>48561.167969</td>\n      <td>5.234382e+10</td>\n      <td>1.547484</td>\n      <td>1.473137</td>\n    </tr>\n    <tr>\n      <th>2021-03-05</th>\n      <td>48527.031250</td>\n      <td>49396.429688</td>\n      <td>46542.515625</td>\n      <td>48927.304688</td>\n      <td>48927.304688</td>\n      <td>4.862593e+10</td>\n      <td>1.577075</td>\n      <td>1.507783</td>\n    </tr>\n    <tr>\n      <th>2021-03-06</th>\n      <td>48899.230469</td>\n      <td>49147.218750</td>\n      <td>47257.527344</td>\n      <td>48912.382813</td>\n      <td>48912.382813</td>\n      <td>3.436356e+10</td>\n      <td>1.595371</td>\n      <td>1.536979</td>\n    </tr>\n    <tr>\n      <th>2021-03-07</th>\n      <td>48918.679688</td>\n      <td>51384.367188</td>\n      <td>48918.679688</td>\n      <td>51206.691406</td>\n      <td>51206.691406</td>\n      <td>4.313746e+10</td>\n      <td>1.827658</td>\n      <td>1.633872</td>\n    </tr>\n    <tr>\n      <th>2021-03-08</th>\n      <td>51174.117188</td>\n      <td>52314.070313</td>\n      <td>49506.054688</td>\n      <td>52246.523438</td>\n      <td>52246.523438</td>\n      <td>4.859743e+10</td>\n      <td>2.082265</td>\n      <td>1.783336</td>\n    </tr>\n    <tr>\n      <th>2021-03-09</th>\n      <td>52272.968750</td>\n      <td>54824.117188</td>\n      <td>51981.832031</td>\n      <td>54824.117188</td>\n      <td>54824.117188</td>\n      <td>5.091223e+10</td>\n      <td>2.190816</td>\n      <td>1.919163</td>\n    </tr>\n    <tr>\n      <th>2021-03-10</th>\n      <td>54824.011719</td>\n      <td>57258.253906</td>\n      <td>53290.890625</td>\n      <td>56008.550781</td>\n      <td>56008.550781</td>\n      <td>5.729558e+10</td>\n      <td>2.671947</td>\n      <td>2.170091</td>\n    </tr>\n    <tr>\n      <th>2021-03-11</th>\n      <td>55963.179688</td>\n      <td>58091.062500</td>\n      <td>54484.593750</td>\n      <td>57805.121094</td>\n      <td>57805.121094</td>\n      <td>5.677234e+10</td>\n      <td>3.222615</td>\n      <td>2.520932</td>\n    </tr>\n    <tr>\n      <th>2021-03-12</th>\n      <td>57821.218750</td>\n      <td>57996.621094</td>\n      <td>55376.648438</td>\n      <td>57332.089844</td>\n      <td>57332.089844</td>\n      <td>5.568994e+10</td>\n      <td>3.529191</td>\n      <td>2.857018</td>\n    </tr>\n    <tr>\n      <th>2021-03-13</th>\n      <td>56644.585938</td>\n      <td>60285.550781</td>\n      <td>56226.421875</td>\n      <td>59706.835938</td>\n      <td>59706.835938</td>\n      <td>5.912292e+10</td>\n      <td>4.037480</td>\n      <td>3.250505</td>\n    </tr>\n  </tbody>\n</table>\n</div>"
     },
     "metadata": {},
     "execution_count": 24
    }
   ],
   "source": [
    "KD(df).tail(10)"
   ]
  }
 ]
}